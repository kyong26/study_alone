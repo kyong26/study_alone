{
 "cells": [
  {
   "cell_type": "markdown",
   "id": "0a43305b",
   "metadata": {},
   "source": [
    "# Leet Code\n",
    "## 2. Add Two Numbers"
   ]
  },
  {
   "cell_type": "markdown",
   "id": "ed6bb5f5",
   "metadata": {},
   "source": [
    "You are given two non-empty linked lists representing two non-negative integers. The digits are stored in reverse order, and each of their nodes contains a single digit. Add the two numbers and return the sum as a linked list.\n",
    "\n",
    "You may assume the two numbers do not contain any leading zero, except the number 0 itself."
   ]
  },
  {
   "cell_type": "markdown",
   "id": "8eba0b4c",
   "metadata": {},
   "source": [
    "* Example 1:\n",
    "\n",
    "Input: l1 = [2,4,3], l2 = [5,6,4]\\\n",
    "Output: [7,0,8]\\\n",
    "Explanation: 342 + 465 = 807.\n",
    "\n",
    "* Example 2:\n",
    "\n",
    "Input: l1 = [0], l2 = [0]\\\n",
    "Output: [0]\n",
    "\n",
    "* Example 3:\n",
    "\n",
    "Input: l1 = [9,9,9,9,9,9,9], l2 = [9,9,9,9]\n",
    "Output: [8,9,9,9,0,0,0,1]"
   ]
  },
  {
   "cell_type": "markdown",
   "id": "efd57087",
   "metadata": {},
   "source": [
    "Constraints:\n",
    "\n",
    "The number of nodes in each linked list is in the range [1, 100].\n",
    "0 <= Node.val <= 9\n",
    "It is guaranteed that the list represents a number that does not have leading zeros."
   ]
  },
  {
   "cell_type": "code",
   "execution_count": 45,
   "id": "80139cfd",
   "metadata": {},
   "outputs": [],
   "source": [
    "# reverse를 해야 하는데, 리트코드엔 아래 코드 둘 사용이 불가능하다.\n",
    "# l1[:] = l1[::-1]\n",
    "# l1.reverse()\n",
    "\n",
    "# 투포인트스왑으로 함수를 만들었더니 len을 못써서 쓸모가 없었다.\n",
    "# def swap(s):\n",
    "#     left, right = 0, len(s)-1\n",
    "#     while left<right:\n",
    "#     s[left], s[right] = s[right], s[left]\n",
    "#     left += 1 \n",
    "#     right -= 1 \n",
    "#     print(s)\n",
    "    \n",
    "# 세상에..."
   ]
  },
  {
   "cell_type": "code",
   "execution_count": 53,
   "id": "f8e2d2c3",
   "metadata": {},
   "outputs": [],
   "source": [
    "# 그래서 insert로 reverse를 시도했으나, 이 것도 안 됨\n",
    "# iterable이 안된다고 했다\n",
    "def solutions(l1, l2):\n",
    "\n",
    "    l1_reverse = [] \n",
    "    l2_reverse = [] \n",
    "\n",
    "    for l in l1:\n",
    "        l1_reverse.insert(0,l)\n",
    "    for l in l2:\n",
    "        l2_reverse.insert(0,l)\n",
    "\n",
    "    l1_reverse = ''.join(list(map(str, l1_reverse)))\n",
    "    l2_reverse = ''.join(list(map(str, l2_reverse)))\n",
    "\n",
    "    numbers = eval(l1_reverse + '+' + l2_reverse)\n",
    "    answers = []\n",
    "\n",
    "    for number in str(numbers):\n",
    "        answers.append(number)\n",
    "\n",
    "    answers[:] = answers[::-1]\n",
    "    answers = list(map(str, answers))\n",
    "\n",
    "    print(answers)"
   ]
  },
  {
   "cell_type": "code",
   "execution_count": 54,
   "id": "7f193ce5",
   "metadata": {},
   "outputs": [
    {
     "name": "stdout",
     "output_type": "stream",
     "text": [
      "['7', '0', '8']\n"
     ]
    }
   ],
   "source": [
    "l1 = [2,4,3]\n",
    "l2 = [5,6,4]\n",
    "\n",
    "solutions(l1, l2)"
   ]
  },
  {
   "cell_type": "code",
   "execution_count": 55,
   "id": "34a5ef63",
   "metadata": {},
   "outputs": [
    {
     "name": "stdout",
     "output_type": "stream",
     "text": [
      "['8', '9', '9', '9', '0', '0', '0', '1']\n"
     ]
    }
   ],
   "source": [
    "l1 = [9,9,9,9,9,9,9]\n",
    "l2 = [9,9,9,9]\n",
    "\n",
    "solutions(l1, l2)"
   ]
  },
  {
   "cell_type": "code",
   "execution_count": 56,
   "id": "69ad9b95",
   "metadata": {},
   "outputs": [],
   "source": [
    "# Solution tab 에서 가장 깔끔했던 코드\n",
    "\n",
    "# Definition for singly-linked list.\n",
    "# class ListNode(object):\n",
    "#     def __init__(self, x):\n",
    "#         self.val = x\n",
    "#         self.next = None\n",
    "\n",
    "class Solution(object):\n",
    "    def addTwoNumbers(self, l1, l2):\n",
    "        \"\"\"\n",
    "        :type l1: ListNode\n",
    "        :type l2: ListNode\n",
    "        :rtype: ListNode\n",
    "        \"\"\"\n",
    "        result = ListNode(0)\n",
    "        result_tail = result\n",
    "        carry = 0\n",
    "                \n",
    "        while l1 or l2 or carry:            \n",
    "            val1  = (l1.val if l1 else 0)\n",
    "            val2  = (l2.val if l2 else 0)\n",
    "            carry, out = divmod(val1+val2 + carry, 10)    \n",
    "                      \n",
    "            result_tail.next = ListNode(out)\n",
    "            result_tail = result_tail.next                      \n",
    "            \n",
    "            l1 = (l1.next if l1 else None)\n",
    "            l2 = (l2.next if l2 else None)\n",
    "               \n",
    "        return result.next\n",
    "    \n",
    "# 제일 상단에 ListNode 있는걸 못 봤는데, 활용해서 풀라고 적어놓은 거였다."
   ]
  }
 ],
 "metadata": {
  "kernelspec": {
   "display_name": "Python 3",
   "language": "python",
   "name": "python3"
  },
  "language_info": {
   "codemirror_mode": {
    "name": "ipython",
    "version": 3
   },
   "file_extension": ".py",
   "mimetype": "text/x-python",
   "name": "python",
   "nbconvert_exporter": "python",
   "pygments_lexer": "ipython3",
   "version": "3.8.8"
  }
 },
 "nbformat": 4,
 "nbformat_minor": 5
}
